{
 "cells": [
  {
   "cell_type": "code",
   "execution_count": null,
   "id": "superior-expert",
   "metadata": {},
   "outputs": [],
   "source": [
    "!pip install ankipandas"
   ]
  },
  {
   "cell_type": "code",
   "execution_count": 2,
   "id": "spectacular-collar",
   "metadata": {},
   "outputs": [],
   "source": [
    "from ankipandas import Collection"
   ]
  },
  {
   "cell_type": "code",
   "execution_count": 3,
   "id": "recognized-methodology",
   "metadata": {},
   "outputs": [
    {
     "name": "stderr",
     "output_type": "stream",
     "text": [
      "\u001b[32mINFO: Database found at '/Users/abhi/Library/Application Support/Anki2/Original/collection.anki2'.\u001b[0m\n"
     ]
    }
   ],
   "source": [
    "col = Collection(\"/Users/abhi/Library/Application Support/Anki2\")"
   ]
  },
  {
   "cell_type": "code",
   "execution_count": 4,
   "id": "chinese-horror",
   "metadata": {},
   "outputs": [],
   "source": [
    "nonsuspended = col.cards[col.cards['cqueue'] != 'suspended']"
   ]
  },
  {
   "cell_type": "code",
   "execution_count": 5,
   "id": "vulnerable-england",
   "metadata": {},
   "outputs": [],
   "source": [
    "notes = nonsuspended.merge_notes().reset_index()"
   ]
  },
  {
   "cell_type": "code",
   "execution_count": 7,
   "id": "outside-fleece",
   "metadata": {},
   "outputs": [
    {
     "data": {
      "text/html": [
       "<div>\n",
       "<style scoped>\n",
       "    .dataframe tbody tr th:only-of-type {\n",
       "        vertical-align: middle;\n",
       "    }\n",
       "\n",
       "    .dataframe tbody tr th {\n",
       "        vertical-align: top;\n",
       "    }\n",
       "\n",
       "    .dataframe thead th {\n",
       "        text-align: right;\n",
       "    }\n",
       "</style>\n",
       "<table border=\"1\" class=\"dataframe\">\n",
       "  <thead>\n",
       "    <tr style=\"text-align: right;\">\n",
       "      <th></th>\n",
       "      <th>cid</th>\n",
       "      <th>nid</th>\n",
       "      <th>cord</th>\n",
       "      <th>cmod</th>\n",
       "      <th>cusn</th>\n",
       "      <th>ctype</th>\n",
       "      <th>cqueue</th>\n",
       "      <th>cdue</th>\n",
       "      <th>civl</th>\n",
       "      <th>cfactor</th>\n",
       "      <th>...</th>\n",
       "      <th>cleft</th>\n",
       "      <th>codue</th>\n",
       "      <th>cdeck</th>\n",
       "      <th>codeck</th>\n",
       "      <th>nguid</th>\n",
       "      <th>nmod</th>\n",
       "      <th>nusn</th>\n",
       "      <th>ntags</th>\n",
       "      <th>nflds</th>\n",
       "      <th>nmodel</th>\n",
       "    </tr>\n",
       "  </thead>\n",
       "  <tbody>\n",
       "    <tr>\n",
       "      <th>0</th>\n",
       "      <td>1402456305835</td>\n",
       "      <td>1402456236692</td>\n",
       "      <td>0</td>\n",
       "      <td>1633066125</td>\n",
       "      <td>355</td>\n",
       "      <td>relearn</td>\n",
       "      <td>due</td>\n",
       "      <td>860</td>\n",
       "      <td>45</td>\n",
       "      <td>2800</td>\n",
       "      <td>...</td>\n",
       "      <td>2002</td>\n",
       "      <td>0</td>\n",
       "      <td>AnKing\u001fLolnotacop\u001fBugs</td>\n",
       "      <td></td>\n",
       "      <td>b}T|#!(u,@</td>\n",
       "      <td>1629303869</td>\n",
       "      <td>206</td>\n",
       "      <td>[#AK_Step1_v10::#B&amp;B::13_Infectious_Disease::0...</td>\n",
       "      <td>[{{c1::&lt;u&gt;Preformed&lt;/u&gt; &lt;b&gt;enterotoxins&lt;/b&gt;::W...</td>\n",
       "      <td>Cloze-AnKingMaster-v3</td>\n",
       "    </tr>\n",
       "    <tr>\n",
       "      <th>1</th>\n",
       "      <td>1501451382033</td>\n",
       "      <td>1402456236692</td>\n",
       "      <td>1</td>\n",
       "      <td>1633531091</td>\n",
       "      <td>399</td>\n",
       "      <td>relearn</td>\n",
       "      <td>due</td>\n",
       "      <td>869</td>\n",
       "      <td>48</td>\n",
       "      <td>2650</td>\n",
       "      <td>...</td>\n",
       "      <td>2002</td>\n",
       "      <td>0</td>\n",
       "      <td>AnKing\u001fLolnotacop\u001fBugs</td>\n",
       "      <td></td>\n",
       "      <td>b}T|#!(u,@</td>\n",
       "      <td>1629303869</td>\n",
       "      <td>206</td>\n",
       "      <td>[#AK_Step1_v10::#B&amp;B::13_Infectious_Disease::0...</td>\n",
       "      <td>[{{c1::&lt;u&gt;Preformed&lt;/u&gt; &lt;b&gt;enterotoxins&lt;/b&gt;::W...</td>\n",
       "      <td>Cloze-AnKingMaster-v3</td>\n",
       "    </tr>\n",
       "    <tr>\n",
       "      <th>2</th>\n",
       "      <td>1501451638884</td>\n",
       "      <td>1402456236692</td>\n",
       "      <td>2</td>\n",
       "      <td>1633531191</td>\n",
       "      <td>399</td>\n",
       "      <td>relearn</td>\n",
       "      <td>due</td>\n",
       "      <td>866</td>\n",
       "      <td>45</td>\n",
       "      <td>2650</td>\n",
       "      <td>...</td>\n",
       "      <td>2002</td>\n",
       "      <td>0</td>\n",
       "      <td>AnKing\u001fLolnotacop\u001fBugs</td>\n",
       "      <td></td>\n",
       "      <td>b}T|#!(u,@</td>\n",
       "      <td>1629303869</td>\n",
       "      <td>206</td>\n",
       "      <td>[#AK_Step1_v10::#B&amp;B::13_Infectious_Disease::0...</td>\n",
       "      <td>[{{c1::&lt;u&gt;Preformed&lt;/u&gt; &lt;b&gt;enterotoxins&lt;/b&gt;::W...</td>\n",
       "      <td>Cloze-AnKingMaster-v3</td>\n",
       "    </tr>\n",
       "    <tr>\n",
       "      <th>3</th>\n",
       "      <td>1402524178958</td>\n",
       "      <td>1402524036532</td>\n",
       "      <td>0</td>\n",
       "      <td>1632595032</td>\n",
       "      <td>315</td>\n",
       "      <td>relearn</td>\n",
       "      <td>due</td>\n",
       "      <td>828</td>\n",
       "      <td>18</td>\n",
       "      <td>2650</td>\n",
       "      <td>...</td>\n",
       "      <td>2002</td>\n",
       "      <td>0</td>\n",
       "      <td>AnKing\u001fLolnotacop\u001fBugs</td>\n",
       "      <td></td>\n",
       "      <td>qs0X5x#LxS</td>\n",
       "      <td>1629303869</td>\n",
       "      <td>206</td>\n",
       "      <td>[#AK_Step1_v10::#B&amp;B::13_Infectious_Disease::0...</td>\n",
       "      <td>[Where in the body are Group D Streptococci (&lt;...</td>\n",
       "      <td>Cloze-AnKingMaster-v3</td>\n",
       "    </tr>\n",
       "    <tr>\n",
       "      <th>4</th>\n",
       "      <td>1402524202094</td>\n",
       "      <td>1402524179050</td>\n",
       "      <td>0</td>\n",
       "      <td>1633460676</td>\n",
       "      <td>392</td>\n",
       "      <td>relearn</td>\n",
       "      <td>due</td>\n",
       "      <td>850</td>\n",
       "      <td>30</td>\n",
       "      <td>2650</td>\n",
       "      <td>...</td>\n",
       "      <td>2002</td>\n",
       "      <td>0</td>\n",
       "      <td>AnKing\u001fLolnotacop\u001fBugs</td>\n",
       "      <td></td>\n",
       "      <td>EEo(71fAQZ</td>\n",
       "      <td>1629303892</td>\n",
       "      <td>206</td>\n",
       "      <td>[#AK_Step1_v10::#AMBOSS, #AK_Step1_v10::#B&amp;B::...</td>\n",
       "      <td>[{{c1::&lt;b&gt;Subacute endocarditis&lt;/b&gt;}} is a car...</td>\n",
       "      <td>Cloze-AnKingMaster-v3</td>\n",
       "    </tr>\n",
       "  </tbody>\n",
       "</table>\n",
       "<p>5 rows × 22 columns</p>\n",
       "</div>"
      ],
      "text/plain": [
       "             cid            nid  cord        cmod  cusn    ctype cqueue  cdue  \\\n",
       "0  1402456305835  1402456236692     0  1633066125   355  relearn    due   860   \n",
       "1  1501451382033  1402456236692     1  1633531091   399  relearn    due   869   \n",
       "2  1501451638884  1402456236692     2  1633531191   399  relearn    due   866   \n",
       "3  1402524178958  1402524036532     0  1632595032   315  relearn    due   828   \n",
       "4  1402524202094  1402524179050     0  1633460676   392  relearn    due   850   \n",
       "\n",
       "   civl  cfactor  ...  cleft  codue                   cdeck  codeck  \\\n",
       "0    45     2800  ...   2002      0  AnKing\u001fLolnotacop\u001fBugs           \n",
       "1    48     2650  ...   2002      0  AnKing\u001fLolnotacop\u001fBugs           \n",
       "2    45     2650  ...   2002      0  AnKing\u001fLolnotacop\u001fBugs           \n",
       "3    18     2650  ...   2002      0  AnKing\u001fLolnotacop\u001fBugs           \n",
       "4    30     2650  ...   2002      0  AnKing\u001fLolnotacop\u001fBugs           \n",
       "\n",
       "        nguid        nmod nusn  \\\n",
       "0  b}T|#!(u,@  1629303869  206   \n",
       "1  b}T|#!(u,@  1629303869  206   \n",
       "2  b}T|#!(u,@  1629303869  206   \n",
       "3  qs0X5x#LxS  1629303869  206   \n",
       "4  EEo(71fAQZ  1629303892  206   \n",
       "\n",
       "                                               ntags  \\\n",
       "0  [#AK_Step1_v10::#B&B::13_Infectious_Disease::0...   \n",
       "1  [#AK_Step1_v10::#B&B::13_Infectious_Disease::0...   \n",
       "2  [#AK_Step1_v10::#B&B::13_Infectious_Disease::0...   \n",
       "3  [#AK_Step1_v10::#B&B::13_Infectious_Disease::0...   \n",
       "4  [#AK_Step1_v10::#AMBOSS, #AK_Step1_v10::#B&B::...   \n",
       "\n",
       "                                               nflds                 nmodel  \n",
       "0  [{{c1::<u>Preformed</u> <b>enterotoxins</b>::W...  Cloze-AnKingMaster-v3  \n",
       "1  [{{c1::<u>Preformed</u> <b>enterotoxins</b>::W...  Cloze-AnKingMaster-v3  \n",
       "2  [{{c1::<u>Preformed</u> <b>enterotoxins</b>::W...  Cloze-AnKingMaster-v3  \n",
       "3  [Where in the body are Group D Streptococci (<...  Cloze-AnKingMaster-v3  \n",
       "4  [{{c1::<b>Subacute endocarditis</b>}} is a car...  Cloze-AnKingMaster-v3  \n",
       "\n",
       "[5 rows x 22 columns]"
      ]
     },
     "execution_count": 7,
     "metadata": {},
     "output_type": "execute_result"
    }
   ],
   "source": [
    "notes.head()"
   ]
  },
  {
   "cell_type": "code",
   "execution_count": 8,
   "id": "accredited-sheet",
   "metadata": {},
   "outputs": [],
   "source": [
    "revs = col.revs.reset_index()"
   ]
  },
  {
   "cell_type": "code",
   "execution_count": 9,
   "id": "attractive-apparel",
   "metadata": {},
   "outputs": [],
   "source": [
    "notes.merge(revs, how='left', left_on=\"cid\", right_on=\"cid\").to_csv('out.csv')"
   ]
  },
  {
   "cell_type": "code",
   "execution_count": 10,
   "id": "rural-acrobat",
   "metadata": {},
   "outputs": [],
   "source": [
    "# pick up from last point\n",
    "import pandas as pd\n",
    "import re"
   ]
  },
  {
   "cell_type": "code",
   "execution_count": 11,
   "id": "radical-preference",
   "metadata": {},
   "outputs": [],
   "source": [
    "notes = pd.read_csv('out.csv')"
   ]
  },
  {
   "cell_type": "code",
   "execution_count": 26,
   "id": "champion-crawford",
   "metadata": {},
   "outputs": [],
   "source": [
    "def process_tags(tags):\n",
    "    tags = tags.strip('][').split(',')\n",
    "    new_tags = []\n",
    "    for t in tags:\n",
    "        try: \n",
    "            l = t.split('::')[-1]\n",
    "            l = ''.join([i for i in l if not i.isnumeric()])\n",
    "            if '#' not in l and len(l) > 5:\n",
    "                \n",
    "                new_tags.append(l.lower())\n",
    "                \n",
    "        except:\n",
    "            pass\n",
    "    return list(set(new_tags))\n",
    "\n",
    "\n",
    "def cleanhtml(raw_html):\n",
    "    CLEANR = re.compile('<.*?>') \n",
    "    cleantext = re.sub(CLEANR, '', raw_html)\n",
    "    return cleantext\n",
    "\n",
    "def process_fields(row):\n",
    "    row = row.strip('][').split(',')\n",
    "    tags = []\n",
    "    try:\n",
    "        pattern = re.compile(r'\\{\\{.*?\\}\\}')\n",
    "        match = pattern.findall(row[0])\n",
    "        \n",
    "        for m in match:\n",
    "            prelimtext =  m.split('::')[1]\n",
    "            if 'img' not in prelimtext:\n",
    "                s = cleanhtml(prelimtext).replace('}}', '')\n",
    "                if len(s) > 4:\n",
    "                    tags.append(s.lower())\n",
    "            \n",
    "            \n",
    "        \n",
    "    except:\n",
    "        pass\n",
    "    return list(set(tags))\n",
    "def make_tags(row):\n",
    "    try:\n",
    "        tags = [] # process_tags(row['ntags'])\n",
    "        fields = process_fields(row['nflds'])\n",
    "        other_tags = []\n",
    "        if 'DGSOM' in row['cdeck']:\n",
    "            if 'faces' not in row['cdeck']:\n",
    "                other = row['cdeck'].replace('\\x1f', ' ').split(' ')\n",
    "                for o in other:\n",
    "                    if len(o) > 3 and ('DGSOM' not in o):\n",
    "                        other_tags.append(o.lower())\n",
    "        return list(set(tags + fields + other_tags))\n",
    "    except:\n",
    "        return []"
   ]
  },
  {
   "cell_type": "code",
   "execution_count": 27,
   "id": "extra-practice",
   "metadata": {},
   "outputs": [
    {
     "data": {
      "text/plain": [
       "Unnamed: 0                                                43203\n",
       "cid                                               1639442329162\n",
       "nid                                               1639442329162\n",
       "cord                                                          0\n",
       "cmod                                                 1639588014\n",
       "cusn                                                        564\n",
       "ctype                                                   relearn\n",
       "cqueue                                                      due\n",
       "cdue                                                        892\n",
       "civl                                                          1\n",
       "cfactor                                                    2500\n",
       "creps                                                         3\n",
       "clapses                                                       0\n",
       "cleft                                                      1001\n",
       "codue                                                         0\n",
       "cdeck                          DGSOM\u001fHisto\u001fPitstop3\u001fCV HP Lab 1\n",
       "codeck                                                      NaN\n",
       "nguid                                                qOyOYxceDa\n",
       "nmod                                                 1639442329\n",
       "nusn                                                        562\n",
       "ntags                                                        []\n",
       "nflds         ['1bd9bd09955741fab8722529036f7de4-ao-6', '', ...\n",
       "nmodel                                 Image Occlusion Enhanced\n",
       "rid                                                 1.63959e+12\n",
       "rusn                                                        564\n",
       "rease                                                         3\n",
       "rivl                                                          1\n",
       "rlastIvl                                                 -86400\n",
       "rfactor                                                    2500\n",
       "rtime                                                      6426\n",
       "rtype                                                  learning\n",
       "tags                                                         []\n",
       "Name: 43203, dtype: object"
      ]
     },
     "execution_count": 27,
     "metadata": {},
     "output_type": "execute_result"
    }
   ],
   "source": [
    "notes.iloc[43203]"
   ]
  },
  {
   "cell_type": "code",
   "execution_count": 28,
   "id": "criminal-saturn",
   "metadata": {},
   "outputs": [],
   "source": [
    "notes['tags'] = notes.apply(make_tags, axis=1)"
   ]
  },
  {
   "cell_type": "code",
   "execution_count": 29,
   "id": "charming-allergy",
   "metadata": {},
   "outputs": [
    {
     "data": {
      "text/plain": [
       "4     8839\n",
       "3     7743\n",
       "5     5079\n",
       "6     4248\n",
       "7     3349\n",
       "8     2945\n",
       "9     2149\n",
       "2     1615\n",
       "10    1443\n",
       "11    1167\n",
       "1      793\n",
       "12     780\n",
       "13     760\n",
       "14     503\n",
       "15     354\n",
       "16     294\n",
       "0      275\n",
       "17     242\n",
       "18     147\n",
       "20     123\n",
       "21     108\n",
       "23      95\n",
       "19      76\n",
       "28      28\n",
       "27      27\n",
       "25      25\n",
       "Name: creps, dtype: int64"
      ]
     },
     "execution_count": 29,
     "metadata": {},
     "output_type": "execute_result"
    }
   ],
   "source": [
    "notes['creps'].value_counts()"
   ]
  },
  {
   "cell_type": "code",
   "execution_count": 30,
   "id": "impaired-consent",
   "metadata": {},
   "outputs": [],
   "source": [
    "import networkx as nx"
   ]
  },
  {
   "cell_type": "code",
   "execution_count": null,
   "id": "institutional-trial",
   "metadata": {},
   "outputs": [],
   "source": []
  },
  {
   "cell_type": "code",
   "execution_count": 31,
   "id": "helpful-magnet",
   "metadata": {},
   "outputs": [
    {
     "name": "stdout",
     "output_type": "stream",
     "text": [
      "0 0\n",
      "2000 251\n",
      "4000 530\n",
      "6000 737\n",
      "8000 1022\n",
      "10000 1277\n",
      "12000 26281\n",
      "14000 179824\n",
      "16000 527223\n",
      "18000 892286\n",
      "20000 1331528\n",
      "22000 2078698\n",
      "24000 2758620\n",
      "26000 3454260\n",
      "28000 3810680\n",
      "30000 4474775\n",
      "32000 4954138\n",
      "34000 5508984\n",
      "36000 6198700\n",
      "38000 6623312\n",
      "40000 7338616\n",
      "42000 8740465\n"
     ]
    }
   ],
   "source": [
    "G = nx.Graph()\n",
    "s = set()\n",
    "for index, row in notes.iterrows():\n",
    "    if index % 2000 == 0:\n",
    "        print(index, G.number_of_edges())\n",
    "    new_node = row['nid']\n",
    "    new_attributes = row['tags']\n",
    "    if new_node not in s:\n",
    "        s.add(new_node)\n",
    "        G.add_node(new_node, my_attributes=new_attributes)\n",
    "        for node, attrs in G.nodes(data=True):\n",
    "            if node != new_node:\n",
    "                added = False\n",
    "                for attr in attrs['my_attributes']:\n",
    "                    if attr in new_attributes:\n",
    "                        if added == False:\n",
    "                            G.add_edge(node, new_node)\n",
    "                            added = True\n",
    "                        else:\n",
    "                            break\n",
    "                    "
   ]
  },
  {
   "cell_type": "code",
   "execution_count": 32,
   "id": "infectious-inventory",
   "metadata": {},
   "outputs": [
    {
     "data": {
      "text/plain": [
       "8167"
      ]
     },
     "execution_count": 32,
     "metadata": {},
     "output_type": "execute_result"
    }
   ],
   "source": [
    "G.number_of_nodes()"
   ]
  },
  {
   "cell_type": "code",
   "execution_count": 33,
   "id": "controlled-capital",
   "metadata": {},
   "outputs": [
    {
     "data": {
      "text/plain": [
       "10229426"
      ]
     },
     "execution_count": 33,
     "metadata": {},
     "output_type": "execute_result"
    }
   ],
   "source": [
    "G.number_of_edges()"
   ]
  },
  {
   "cell_type": "code",
   "execution_count": 34,
   "id": "raised-geometry",
   "metadata": {},
   "outputs": [
    {
     "data": {
      "text/plain": [
       "[6716, 8, 8, 8, 7, 7, 6, 5, 5, 5]"
      ]
     },
     "execution_count": 34,
     "metadata": {},
     "output_type": "execute_result"
    }
   ],
   "source": [
    "sorted([len(x) for x in nx.connected_components(G)], reverse=True)[:10]"
   ]
  },
  {
   "cell_type": "code",
   "execution_count": 35,
   "id": "jewish-house",
   "metadata": {},
   "outputs": [],
   "source": [
    "tree = nx.algorithms.tree.mst.minimum_spanning_tree(G)"
   ]
  },
  {
   "cell_type": "code",
   "execution_count": 36,
   "id": "baking-confirmation",
   "metadata": {},
   "outputs": [],
   "source": [
    "G = tree"
   ]
  },
  {
   "cell_type": "code",
   "execution_count": 37,
   "id": "demographic-review",
   "metadata": {},
   "outputs": [],
   "source": [
    "for component in list(nx.connected_components(G)):\n",
    "    if len(component)<5:\n",
    "        for node in component:\n",
    "            G.remove_node(node)"
   ]
  },
  {
   "cell_type": "code",
   "execution_count": 38,
   "id": "statewide-bowling",
   "metadata": {},
   "outputs": [
    {
     "data": {
      "text/plain": [
       "6785"
      ]
     },
     "execution_count": 38,
     "metadata": {},
     "output_type": "execute_result"
    }
   ],
   "source": [
    "G.number_of_nodes()"
   ]
  },
  {
   "cell_type": "code",
   "execution_count": 39,
   "id": "ignored-recruitment",
   "metadata": {},
   "outputs": [
    {
     "data": {
      "text/plain": [
       "6773"
      ]
     },
     "execution_count": 39,
     "metadata": {},
     "output_type": "execute_result"
    }
   ],
   "source": [
    "G.number_of_edges()"
   ]
  },
  {
   "cell_type": "code",
   "execution_count": 40,
   "id": "binding-somalia",
   "metadata": {},
   "outputs": [],
   "source": [
    "from networkx.readwrite import json_graph\n",
    "import json"
   ]
  },
  {
   "cell_type": "code",
   "execution_count": 41,
   "id": "earned-correction",
   "metadata": {},
   "outputs": [],
   "source": [
    "j = json_graph.node_link_data(G)"
   ]
  },
  {
   "cell_type": "code",
   "execution_count": 44,
   "id": "aquatic-german",
   "metadata": {},
   "outputs": [],
   "source": [
    "import copy"
   ]
  },
  {
   "cell_type": "code",
   "execution_count": 45,
   "id": "occupied-northeast",
   "metadata": {},
   "outputs": [],
   "source": [
    "jnew = copy.deepcopy(j)"
   ]
  },
  {
   "cell_type": "code",
   "execution_count": 46,
   "id": "quiet-princess",
   "metadata": {},
   "outputs": [],
   "source": [
    "for idx,n in enumerate(jnew['nodes']):\n",
    "    note_orig = notes[notes.nid == n['id']]\n",
    "    time = note_orig.iloc[0]['rid']\n",
    "    note = note_orig.iloc[0]['nflds'].strip('][').split(',')[0].replace('\\'', '')\n",
    "    jnew['nodes'][idx].pop('my_attributes', None)\n",
    "    jnew['nodes'][idx]['note'] = note\n",
    "    jnew['nodes'][idx]['time'] = time"
   ]
  },
  {
   "cell_type": "code",
   "execution_count": 47,
   "id": "comfortable-latin",
   "metadata": {},
   "outputs": [],
   "source": [
    "import simplejson"
   ]
  },
  {
   "cell_type": "code",
   "execution_count": 48,
   "id": "divided-yellow",
   "metadata": {},
   "outputs": [],
   "source": [
    "with open('out_clean.json', 'w') as outfile:\n",
    "    d = simplejson.dumps(jnew, ignore_nan=True)\n",
    "    outfile.write(d)"
   ]
  },
  {
   "cell_type": "code",
   "execution_count": null,
   "id": "plastic-cleveland",
   "metadata": {},
   "outputs": [],
   "source": []
  }
 ],
 "metadata": {
  "kernelspec": {
   "display_name": "Python 3",
   "language": "python",
   "name": "python3"
  },
  "language_info": {
   "codemirror_mode": {
    "name": "ipython",
    "version": 3
   },
   "file_extension": ".py",
   "mimetype": "text/x-python",
   "name": "python",
   "nbconvert_exporter": "python",
   "pygments_lexer": "ipython3",
   "version": "3.7.9"
  }
 },
 "nbformat": 4,
 "nbformat_minor": 5
}
